{
 "cells": [
  {
   "cell_type": "code",
   "execution_count": 1,
   "id": "e3cf92bf-98b0-462d-8bf3-a0a551012ecc",
   "metadata": {},
   "outputs": [],
   "source": [
    "import pandas as pd \n",
    "import numpy as np "
   ]
  },
  {
   "cell_type": "code",
   "execution_count": 2,
   "id": "3055abdb-436e-46a8-98f1-520b47ce4700",
   "metadata": {},
   "outputs": [],
   "source": [
    "df_credits = pd.read_csv('tmdb_5000_credits.csv')\n",
    "df_movies = pd.read_csv('tmdb_5000_movies.csv')"
   ]
  },
  {
   "cell_type": "code",
   "execution_count": 3,
   "id": "f6c1c189-05dc-490b-8ee0-c713a57dc051",
   "metadata": {},
   "outputs": [
    {
     "data": {
      "text/html": [
       "<div>\n",
       "<style scoped>\n",
       "    .dataframe tbody tr th:only-of-type {\n",
       "        vertical-align: middle;\n",
       "    }\n",
       "\n",
       "    .dataframe tbody tr th {\n",
       "        vertical-align: top;\n",
       "    }\n",
       "\n",
       "    .dataframe thead th {\n",
       "        text-align: right;\n",
       "    }\n",
       "</style>\n",
       "<table border=\"1\" class=\"dataframe\">\n",
       "  <thead>\n",
       "    <tr style=\"text-align: right;\">\n",
       "      <th></th>\n",
       "      <th>movie_id</th>\n",
       "      <th>title</th>\n",
       "      <th>cast</th>\n",
       "      <th>crew</th>\n",
       "    </tr>\n",
       "  </thead>\n",
       "  <tbody>\n",
       "    <tr>\n",
       "      <th>0</th>\n",
       "      <td>19995</td>\n",
       "      <td>Avatar</td>\n",
       "      <td>[{\"cast_id\": 242, \"character\": \"Jake Sully\", \"...</td>\n",
       "      <td>[{\"credit_id\": \"52fe48009251416c750aca23\", \"de...</td>\n",
       "    </tr>\n",
       "  </tbody>\n",
       "</table>\n",
       "</div>"
      ],
      "text/plain": [
       "   movie_id   title                                               cast  \\\n",
       "0     19995  Avatar  [{\"cast_id\": 242, \"character\": \"Jake Sully\", \"...   \n",
       "\n",
       "                                                crew  \n",
       "0  [{\"credit_id\": \"52fe48009251416c750aca23\", \"de...  "
      ]
     },
     "execution_count": 3,
     "metadata": {},
     "output_type": "execute_result"
    }
   ],
   "source": [
    "df_credits.head(1)"
   ]
  },
  {
   "cell_type": "code",
   "execution_count": 4,
   "id": "2492e111-fd5f-4f26-b2c6-857c680728bb",
   "metadata": {},
   "outputs": [
    {
     "data": {
      "text/html": [
       "<div>\n",
       "<style scoped>\n",
       "    .dataframe tbody tr th:only-of-type {\n",
       "        vertical-align: middle;\n",
       "    }\n",
       "\n",
       "    .dataframe tbody tr th {\n",
       "        vertical-align: top;\n",
       "    }\n",
       "\n",
       "    .dataframe thead th {\n",
       "        text-align: right;\n",
       "    }\n",
       "</style>\n",
       "<table border=\"1\" class=\"dataframe\">\n",
       "  <thead>\n",
       "    <tr style=\"text-align: right;\">\n",
       "      <th></th>\n",
       "      <th>budget</th>\n",
       "      <th>genres</th>\n",
       "      <th>homepage</th>\n",
       "      <th>id</th>\n",
       "      <th>keywords</th>\n",
       "      <th>original_language</th>\n",
       "      <th>original_title</th>\n",
       "      <th>overview</th>\n",
       "      <th>popularity</th>\n",
       "      <th>production_companies</th>\n",
       "      <th>production_countries</th>\n",
       "      <th>release_date</th>\n",
       "      <th>revenue</th>\n",
       "      <th>runtime</th>\n",
       "      <th>spoken_languages</th>\n",
       "      <th>status</th>\n",
       "      <th>tagline</th>\n",
       "      <th>title</th>\n",
       "      <th>vote_average</th>\n",
       "      <th>vote_count</th>\n",
       "    </tr>\n",
       "  </thead>\n",
       "  <tbody>\n",
       "    <tr>\n",
       "      <th>0</th>\n",
       "      <td>237000000</td>\n",
       "      <td>[{\"id\": 28, \"name\": \"Action\"}, {\"id\": 12, \"nam...</td>\n",
       "      <td>http://www.avatarmovie.com/</td>\n",
       "      <td>19995</td>\n",
       "      <td>[{\"id\": 1463, \"name\": \"culture clash\"}, {\"id\":...</td>\n",
       "      <td>en</td>\n",
       "      <td>Avatar</td>\n",
       "      <td>In the 22nd century, a paraplegic Marine is di...</td>\n",
       "      <td>150.437577</td>\n",
       "      <td>[{\"name\": \"Ingenious Film Partners\", \"id\": 289...</td>\n",
       "      <td>[{\"iso_3166_1\": \"US\", \"name\": \"United States o...</td>\n",
       "      <td>2009-12-10</td>\n",
       "      <td>2787965087</td>\n",
       "      <td>162.0</td>\n",
       "      <td>[{\"iso_639_1\": \"en\", \"name\": \"English\"}, {\"iso...</td>\n",
       "      <td>Released</td>\n",
       "      <td>Enter the World of Pandora.</td>\n",
       "      <td>Avatar</td>\n",
       "      <td>7.2</td>\n",
       "      <td>11800</td>\n",
       "    </tr>\n",
       "  </tbody>\n",
       "</table>\n",
       "</div>"
      ],
      "text/plain": [
       "      budget                                             genres  \\\n",
       "0  237000000  [{\"id\": 28, \"name\": \"Action\"}, {\"id\": 12, \"nam...   \n",
       "\n",
       "                      homepage     id  \\\n",
       "0  http://www.avatarmovie.com/  19995   \n",
       "\n",
       "                                            keywords original_language  \\\n",
       "0  [{\"id\": 1463, \"name\": \"culture clash\"}, {\"id\":...                en   \n",
       "\n",
       "  original_title                                           overview  \\\n",
       "0         Avatar  In the 22nd century, a paraplegic Marine is di...   \n",
       "\n",
       "   popularity                               production_companies  \\\n",
       "0  150.437577  [{\"name\": \"Ingenious Film Partners\", \"id\": 289...   \n",
       "\n",
       "                                production_countries release_date     revenue  \\\n",
       "0  [{\"iso_3166_1\": \"US\", \"name\": \"United States o...   2009-12-10  2787965087   \n",
       "\n",
       "   runtime                                   spoken_languages    status  \\\n",
       "0    162.0  [{\"iso_639_1\": \"en\", \"name\": \"English\"}, {\"iso...  Released   \n",
       "\n",
       "                       tagline   title  vote_average  vote_count  \n",
       "0  Enter the World of Pandora.  Avatar           7.2       11800  "
      ]
     },
     "execution_count": 4,
     "metadata": {},
     "output_type": "execute_result"
    }
   ],
   "source": [
    "df_movies.head(1)"
   ]
  },
  {
   "cell_type": "code",
   "execution_count": 5,
   "id": "6796ea10-ecb8-42d8-aab4-15026679412e",
   "metadata": {},
   "outputs": [
    {
     "data": {
      "text/html": [
       "<div>\n",
       "<style scoped>\n",
       "    .dataframe tbody tr th:only-of-type {\n",
       "        vertical-align: middle;\n",
       "    }\n",
       "\n",
       "    .dataframe tbody tr th {\n",
       "        vertical-align: top;\n",
       "    }\n",
       "\n",
       "    .dataframe thead th {\n",
       "        text-align: right;\n",
       "    }\n",
       "</style>\n",
       "<table border=\"1\" class=\"dataframe\">\n",
       "  <thead>\n",
       "    <tr style=\"text-align: right;\">\n",
       "      <th></th>\n",
       "      <th>id</th>\n",
       "      <th>tittle</th>\n",
       "      <th>cast</th>\n",
       "      <th>crew</th>\n",
       "      <th>budget</th>\n",
       "      <th>genres</th>\n",
       "      <th>homepage</th>\n",
       "      <th>keywords</th>\n",
       "      <th>original_language</th>\n",
       "      <th>original_title</th>\n",
       "      <th>...</th>\n",
       "      <th>production_countries</th>\n",
       "      <th>release_date</th>\n",
       "      <th>revenue</th>\n",
       "      <th>runtime</th>\n",
       "      <th>spoken_languages</th>\n",
       "      <th>status</th>\n",
       "      <th>tagline</th>\n",
       "      <th>title</th>\n",
       "      <th>vote_average</th>\n",
       "      <th>vote_count</th>\n",
       "    </tr>\n",
       "  </thead>\n",
       "  <tbody>\n",
       "    <tr>\n",
       "      <th>0</th>\n",
       "      <td>19995</td>\n",
       "      <td>Avatar</td>\n",
       "      <td>[{\"cast_id\": 242, \"character\": \"Jake Sully\", \"...</td>\n",
       "      <td>[{\"credit_id\": \"52fe48009251416c750aca23\", \"de...</td>\n",
       "      <td>237000000</td>\n",
       "      <td>[{\"id\": 28, \"name\": \"Action\"}, {\"id\": 12, \"nam...</td>\n",
       "      <td>http://www.avatarmovie.com/</td>\n",
       "      <td>[{\"id\": 1463, \"name\": \"culture clash\"}, {\"id\":...</td>\n",
       "      <td>en</td>\n",
       "      <td>Avatar</td>\n",
       "      <td>...</td>\n",
       "      <td>[{\"iso_3166_1\": \"US\", \"name\": \"United States o...</td>\n",
       "      <td>2009-12-10</td>\n",
       "      <td>2787965087</td>\n",
       "      <td>162.0</td>\n",
       "      <td>[{\"iso_639_1\": \"en\", \"name\": \"English\"}, {\"iso...</td>\n",
       "      <td>Released</td>\n",
       "      <td>Enter the World of Pandora.</td>\n",
       "      <td>Avatar</td>\n",
       "      <td>7.2</td>\n",
       "      <td>11800</td>\n",
       "    </tr>\n",
       "  </tbody>\n",
       "</table>\n",
       "<p>1 rows × 23 columns</p>\n",
       "</div>"
      ],
      "text/plain": [
       "      id  tittle                                               cast  \\\n",
       "0  19995  Avatar  [{\"cast_id\": 242, \"character\": \"Jake Sully\", \"...   \n",
       "\n",
       "                                                crew     budget  \\\n",
       "0  [{\"credit_id\": \"52fe48009251416c750aca23\", \"de...  237000000   \n",
       "\n",
       "                                              genres  \\\n",
       "0  [{\"id\": 28, \"name\": \"Action\"}, {\"id\": 12, \"nam...   \n",
       "\n",
       "                      homepage  \\\n",
       "0  http://www.avatarmovie.com/   \n",
       "\n",
       "                                            keywords original_language  \\\n",
       "0  [{\"id\": 1463, \"name\": \"culture clash\"}, {\"id\":...                en   \n",
       "\n",
       "  original_title  ...                               production_countries  \\\n",
       "0         Avatar  ...  [{\"iso_3166_1\": \"US\", \"name\": \"United States o...   \n",
       "\n",
       "   release_date     revenue runtime  \\\n",
       "0    2009-12-10  2787965087   162.0   \n",
       "\n",
       "                                    spoken_languages    status  \\\n",
       "0  [{\"iso_639_1\": \"en\", \"name\": \"English\"}, {\"iso...  Released   \n",
       "\n",
       "                       tagline   title vote_average vote_count  \n",
       "0  Enter the World of Pandora.  Avatar          7.2      11800  \n",
       "\n",
       "[1 rows x 23 columns]"
      ]
     },
     "execution_count": 5,
     "metadata": {},
     "output_type": "execute_result"
    }
   ],
   "source": [
    "# 欄位更名合併。\n",
    "df_credits.columns = ['id','tittle','cast','crew']\n",
    "df = df_credits.merge(df_movies,on = 'id')\n",
    "df.head(1)"
   ]
  },
  {
   "cell_type": "code",
   "execution_count": 6,
   "id": "53b4f304-1f82-495e-889a-bfef94edba0c",
   "metadata": {},
   "outputs": [
    {
     "name": "stdout",
     "output_type": "stream",
     "text": [
      "<class 'pandas.core.frame.DataFrame'>\n",
      "Int64Index: 4803 entries, 0 to 4802\n",
      "Data columns (total 23 columns):\n",
      " #   Column                Non-Null Count  Dtype  \n",
      "---  ------                --------------  -----  \n",
      " 0   id                    4803 non-null   int64  \n",
      " 1   tittle                4803 non-null   object \n",
      " 2   cast                  4803 non-null   object \n",
      " 3   crew                  4803 non-null   object \n",
      " 4   budget                4803 non-null   int64  \n",
      " 5   genres                4803 non-null   object \n",
      " 6   homepage              1712 non-null   object \n",
      " 7   keywords              4803 non-null   object \n",
      " 8   original_language     4803 non-null   object \n",
      " 9   original_title        4803 non-null   object \n",
      " 10  overview              4800 non-null   object \n",
      " 11  popularity            4803 non-null   float64\n",
      " 12  production_companies  4803 non-null   object \n",
      " 13  production_countries  4803 non-null   object \n",
      " 14  release_date          4802 non-null   object \n",
      " 15  revenue               4803 non-null   int64  \n",
      " 16  runtime               4801 non-null   float64\n",
      " 17  spoken_languages      4803 non-null   object \n",
      " 18  status                4803 non-null   object \n",
      " 19  tagline               3959 non-null   object \n",
      " 20  title                 4803 non-null   object \n",
      " 21  vote_average          4803 non-null   float64\n",
      " 22  vote_count            4803 non-null   int64  \n",
      "dtypes: float64(3), int64(4), object(16)\n",
      "memory usage: 900.6+ KB\n"
     ]
    }
   ],
   "source": [
    "df.info()"
   ]
  },
  {
   "cell_type": "markdown",
   "id": "4554d63b-0d02-4ff5-a207-25e9f35ecd89",
   "metadata": {},
   "source": [
    "# 直接用資料數據來推薦\n",
    "## 1-1 高評價電影 Top 5"
   ]
  },
  {
   "cell_type": "code",
   "execution_count": null,
   "id": "673c737b-4809-4937-b147-316ab0b93719",
   "metadata": {},
   "outputs": [],
   "source": [
    "# 參考 IMDB 權重評分公式\n",
    "# v 是電影的票數\n",
    "# m 是入榜的最低票數\n",
    "# R 是電影的平均評分\n",
    "# C 是整份資料的平均投票數"
   ]
  },
  {
   "cell_type": "markdown",
   "id": "91885615-2ae0-4d7a-8dbb-78c58d3c5161",
   "metadata": {},
   "source": [
    "$$ Weighted Rating(WR) = (\\frac{v}{v+m})\\times R + (\\frac{m}{v+m})\\times C $$"
   ]
  },
  {
   "cell_type": "code",
   "execution_count": 7,
   "id": "d9c5e71b-c769-40f9-93ce-464ee2d3324d",
   "metadata": {},
   "outputs": [
    {
     "data": {
      "text/plain": [
       "6.092171559442011"
      ]
     },
     "execution_count": 7,
     "metadata": {},
     "output_type": "execute_result"
    }
   ],
   "source": [
    "C= df['vote_average'].mean()\n",
    "C"
   ]
  },
  {
   "cell_type": "code",
   "execution_count": 8,
   "id": "3bfb0e3c-cbcc-4e6a-84e9-bb0aba117155",
   "metadata": {},
   "outputs": [
    {
     "data": {
      "text/plain": [
       "1838.4000000000015"
      ]
     },
     "execution_count": 8,
     "metadata": {},
     "output_type": "execute_result"
    }
   ],
   "source": [
    "# 設定得票數超過其他 90% 的電影為上榜門檻。\n",
    "m= df['vote_count'].quantile(0.9)\n",
    "m"
   ]
  },
  {
   "cell_type": "code",
   "execution_count": 9,
   "id": "ecc75d5b-2f3d-451b-bfff-b78dcb8b82e7",
   "metadata": {},
   "outputs": [
    {
     "data": {
      "text/plain": [
       "(481, 23)"
      ]
     },
     "execution_count": 9,
     "metadata": {},
     "output_type": "execute_result"
    }
   ],
   "source": [
    "# 符合門檻的電影數（481部）\n",
    "q_movies = df.copy().loc[df['vote_count'] >= m]\n",
    "q_movies.shape"
   ]
  },
  {
   "cell_type": "code",
   "execution_count": 10,
   "id": "80ca8ca1-52e7-4e33-9b58-0b29015d840d",
   "metadata": {},
   "outputs": [],
   "source": [
    "# 參考上面 IMDB 的權重公式\n",
    "def weighted_rating(x, m=m, C=C):\n",
    "    v = x['vote_count']\n",
    "    R = x['vote_average']\n",
    "    return (v / (v+m) * R) + (m / (m+v) * C)"
   ]
  },
  {
   "cell_type": "code",
   "execution_count": 11,
   "id": "09cc5933-afa7-451a-a9b9-8ced9250c8ed",
   "metadata": {},
   "outputs": [
    {
     "data": {
      "text/html": [
       "<div>\n",
       "<style scoped>\n",
       "    .dataframe tbody tr th:only-of-type {\n",
       "        vertical-align: middle;\n",
       "    }\n",
       "\n",
       "    .dataframe tbody tr th {\n",
       "        vertical-align: top;\n",
       "    }\n",
       "\n",
       "    .dataframe thead th {\n",
       "        text-align: right;\n",
       "    }\n",
       "</style>\n",
       "<table border=\"1\" class=\"dataframe\">\n",
       "  <thead>\n",
       "    <tr style=\"text-align: right;\">\n",
       "      <th></th>\n",
       "      <th>title</th>\n",
       "      <th>vote_count</th>\n",
       "      <th>vote_average</th>\n",
       "      <th>score</th>\n",
       "    </tr>\n",
       "  </thead>\n",
       "  <tbody>\n",
       "    <tr>\n",
       "      <th>1881</th>\n",
       "      <td>The Shawshank Redemption</td>\n",
       "      <td>8205</td>\n",
       "      <td>8.5</td>\n",
       "      <td>8.059258</td>\n",
       "    </tr>\n",
       "    <tr>\n",
       "      <th>662</th>\n",
       "      <td>Fight Club</td>\n",
       "      <td>9413</td>\n",
       "      <td>8.3</td>\n",
       "      <td>7.939256</td>\n",
       "    </tr>\n",
       "    <tr>\n",
       "      <th>65</th>\n",
       "      <td>The Dark Knight</td>\n",
       "      <td>12002</td>\n",
       "      <td>8.2</td>\n",
       "      <td>7.920020</td>\n",
       "    </tr>\n",
       "    <tr>\n",
       "      <th>3232</th>\n",
       "      <td>Pulp Fiction</td>\n",
       "      <td>8428</td>\n",
       "      <td>8.3</td>\n",
       "      <td>7.904645</td>\n",
       "    </tr>\n",
       "    <tr>\n",
       "      <th>96</th>\n",
       "      <td>Inception</td>\n",
       "      <td>13752</td>\n",
       "      <td>8.1</td>\n",
       "      <td>7.863239</td>\n",
       "    </tr>\n",
       "  </tbody>\n",
       "</table>\n",
       "</div>"
      ],
      "text/plain": [
       "                         title  vote_count  vote_average     score\n",
       "1881  The Shawshank Redemption        8205           8.5  8.059258\n",
       "662                 Fight Club        9413           8.3  7.939256\n",
       "65             The Dark Knight       12002           8.2  7.920020\n",
       "3232              Pulp Fiction        8428           8.3  7.904645\n",
       "96                   Inception       13752           8.1  7.863239"
      ]
     },
     "execution_count": 11,
     "metadata": {},
     "output_type": "execute_result"
    }
   ],
   "source": [
    "# 新增一欄 '權重分數' \n",
    "q_movies['score'] = q_movies.apply(weighted_rating, axis=1)\n",
    "\n",
    "# 權重分數降序排列\n",
    "q_movies = q_movies.sort_values('score', ascending=False)\n",
    "\n",
    "# Top 5 高評價電影\n",
    "q_movies[['title', 'vote_count', 'vote_average', 'score']].head(5)"
   ]
  },
  {
   "cell_type": "markdown",
   "id": "2381475a-22d2-4d08-a1c0-837e1d6254d2",
   "metadata": {},
   "source": [
    "## 1-2 受歡迎電影 Top5 (Popularity)"
   ]
  },
  {
   "cell_type": "code",
   "execution_count": 12,
   "id": "9a03b1bd-f060-4e45-b7ef-60b5e63501e8",
   "metadata": {},
   "outputs": [
    {
     "data": {
      "text/plain": [
       "Text(0.5, 1.0, 'Popular Movies')"
      ]
     },
     "execution_count": 12,
     "metadata": {},
     "output_type": "execute_result"
    },
    {
     "data": {
      "image/png": "[encoded data removed]",
      "text/plain": [
       "<Figure size 720x216 with 1 Axes>"
      ]
     },
     "metadata": {
      "needs_background": "light"
     },
     "output_type": "display_data"
    }
   ],
   "source": [
    "import matplotlib.pyplot as plt\n",
    "\n",
    "pop = df.sort_values('popularity', ascending=False)\n",
    "plt.figure(figsize=(10,3))\n",
    "plt.barh(pop['title'].head(5),pop['popularity'].head(5), align='center', color='#AAAAFF')\n",
    "plt.gca().invert_yaxis()\n",
    "plt.xlabel(\"Popularity\")\n",
    "plt.title(\"Popular Movies\")"
   ]
  },
  {
   "cell_type": "markdown",
   "id": "749e1590-94d4-436f-8b1c-a32d2781fdf9",
   "metadata": {},
   "source": [
    "# 分析後推薦\n",
    "## 2-1 簡介相似度電影推薦"
   ]
  },
  {
   "cell_type": "code",
   "execution_count": 13,
   "id": "d2c999d9-4d61-4630-8794-da6e71646ce4",
   "metadata": {},
   "outputs": [
    {
     "name": "stdout",
     "output_type": "stream",
     "text": [
      "In the 22nd century, a paraplegic Marine is dispatched to the moon Pandora on a unique mission, but becomes torn between following orders and protecting an alien civilization.\n",
      "Captain Barbossa, long believed to be dead, has come back to life and is headed to the edge of the Earth with Will Turner and Elizabeth Swann. But nothing is quite as it seems.\n",
      "A cryptic message from Bond’s past sends him on a trail to uncover a sinister organization. While M battles political forces to keep the secret service alive, Bond peels back the layers of deceit to reveal the terrible truth behind SPECTRE.\n"
     ]
    }
   ],
   "source": [
    "for i in range(3):\n",
    "    print(df['overview'][i])"
   ]
  },
  {
   "cell_type": "code",
   "execution_count": 14,
   "id": "7b44ccb1-062f-4e87-bda8-fb960ab2f24f",
   "metadata": {},
   "outputs": [
    {
     "data": {
      "text/plain": [
       "(4803, 21123)"
      ]
     },
     "execution_count": 14,
     "metadata": {},
     "output_type": "execute_result"
    }
   ],
   "source": [
    "from sklearn.feature_extraction.text import TfidfVectorizer\n",
    "import nltk\n",
    "\n",
    "# 下載 NLTK 英語斷詞包\n",
    "# nltk.download('stopwords')\n",
    "stopwords = nltk.corpus.stopwords.words('english')\n",
    "\n",
    "# 設定斷詞\n",
    "tfidf = TfidfVectorizer(stop_words= stopwords)\n",
    "\n",
    "# 空字串補空值\n",
    "df['overview'] = df['overview'].fillna('')\n",
    "\n",
    "#Construct the required TF-IDF matrix by fitting and transforming the data\n",
    "tfidf_matrix = tfidf.fit_transform(df['overview'])\n",
    "tfidf_matrix.shape"
   ]
  },
  {
   "cell_type": "code",
   "execution_count": null,
   "id": "c2c74fd1-3f9c-4695-97e8-5e72c5b25924",
   "metadata": {},
   "outputs": [],
   "source": [
    "# print(stopwords[:10])"
   ]
  },
  {
   "cell_type": "code",
   "execution_count": 15,
   "id": "9807ab70-dae8-47a7-8ef9-807ba65e24e0",
   "metadata": {},
   "outputs": [],
   "source": [
    "from sklearn.metrics.pairwise import linear_kernel\n",
    "\n",
    "# 計算餘弦相似度\n",
    "cosine_sim = linear_kernel(tfidf_matrix, tfidf_matrix)\n",
    "\n",
    "# 給電影標題\n",
    "indices = pd.Series(df.index, index=df['title']).drop_duplicates()"
   ]
  },
  {
   "cell_type": "code",
   "execution_count": 16,
   "id": "83163b52-0211-4114-859a-c6f7e9e6e6df",
   "metadata": {},
   "outputs": [],
   "source": [
    "# 定義最相似電影\n",
    "def get_recommendations(title, cosine_sim=cosine_sim):\n",
    "    # Get the index of the movie that matches the title\n",
    "    idx = indices[title]\n",
    "\n",
    "    # 餘弦相似度得分\n",
    "    sim_scores = list(enumerate(cosine_sim[idx]))\n",
    "\n",
    "    # Sort the movies based on the similarity scores\n",
    "    sim_scores = sorted(sim_scores, key=lambda x: x[1], reverse=True)\n",
    "\n",
    "    # 扣掉第一名（自己），列出前 10\n",
    "    sim_scores = sim_scores[1:11]\n",
    "\n",
    "    # Get the movie indices\n",
    "    movie_indices = [i[0] for i in sim_scores]\n",
    "\n",
    "    # Return the top 10 most similar movies\n",
    "    return df['title'].iloc[movie_indices]"
   ]
  },
  {
   "cell_type": "code",
   "execution_count": 17,
   "id": "2a6dae90-3255-43a7-97b1-a2d19872e07b",
   "metadata": {},
   "outputs": [
    {
     "data": {
      "text/plain": [
       "1541                 Toy Story\n",
       "343                Toy Story 2\n",
       "1779    The 40 Year Old Virgin\n",
       "891            Man on the Moon\n",
       "3065                Heartbeeps\n",
       "3379              Factory Girl\n",
       "3873             Class of 1984\n",
       "4387      A LEGO Brickumentary\n",
       "699             Daddy Day Care\n",
       "1191            Small Soldiers\n",
       "Name: title, dtype: object"
      ]
     },
     "execution_count": 17,
     "metadata": {},
     "output_type": "execute_result"
    }
   ],
   "source": [
    "get_recommendations('Toy Story 3')"
   ]
  },
  {
   "cell_type": "code",
   "execution_count": 18,
   "id": "fa73d2b5-5796-4148-b62a-8ba318297d94",
   "metadata": {},
   "outputs": [
    {
     "data": {
      "text/plain": [
       "42                 Toy Story 3\n",
       "343                Toy Story 2\n",
       "1779    The 40 Year Old Virgin\n",
       "891            Man on the Moon\n",
       "2869    For Your Consideration\n",
       "3379              Factory Girl\n",
       "3873             Class of 1984\n",
       "3065                Heartbeeps\n",
       "3383                 Losin' It\n",
       "2569               Match Point\n",
       "Name: title, dtype: object"
      ]
     },
     "execution_count": 18,
     "metadata": {},
     "output_type": "execute_result"
    }
   ],
   "source": [
    "get_recommendations('Toy Story')"
   ]
  },
  {
   "cell_type": "markdown",
   "id": "166762fc-619c-418c-8f03-5752e67cdd0a",
   "metadata": {},
   "source": [
    "> Toy Story 系列以外的推薦都怪怪的..  \n",
    "再加上更多特徵去計算\n",
    "\n",
    "## 2-2 用導演、演員相似度來推薦\n"
   ]
  },
  {
   "cell_type": "code",
   "execution_count": 19,
   "id": "ebf31985-0e50-4997-83df-db89b7f8bec4",
   "metadata": {},
   "outputs": [],
   "source": [
    "# 將字串還原成它能夠轉化成的資料型別\n",
    "from ast import literal_eval\n",
    "\n",
    "features = ['cast', 'crew', 'keywords', 'genres']\n",
    "for feature in features:\n",
    "    df[feature] = df[feature].apply(literal_eval)"
   ]
  },
  {
   "cell_type": "code",
   "execution_count": 20,
   "id": "ec454875-b148-4922-ac40-dcd1aa0a9414",
   "metadata": {},
   "outputs": [
    {
     "data": {
      "text/plain": [
       "[{'credit_id': '5770143fc3a3683733000f3a',\n",
       "  'department': 'Writing',\n",
       "  'gender': 2,\n",
       "  'id': 7,\n",
       "  'job': 'Story',\n",
       "  'name': 'Andrew Stanton'},\n",
       " {'credit_id': '52fe433f9251416c75009141',\n",
       "  'department': 'Directing',\n",
       "  'gender': 2,\n",
       "  'id': 8,\n",
       "  'job': 'Director',\n",
       "  'name': 'Lee Unkrich'},\n",
       " {'credit_id': '5770145492514157a60011c6',\n",
       "  'department': 'Writing',\n",
       "  'gender': 2,\n",
       "  'id': 8,\n",
       "  'job': 'Story',\n",
       "  'name': 'Lee Unkrich'}]"
      ]
     },
     "execution_count": 20,
     "metadata": {},
     "output_type": "execute_result"
    }
   ],
   "source": [
    "# 先看一下工作人員 list 長怎樣\n",
    "df['crew'][42][:3]"
   ]
  },
  {
   "cell_type": "code",
   "execution_count": 21,
   "id": "923bbd73-f208-4b3d-872e-16c046509f41",
   "metadata": {},
   "outputs": [
    {
     "data": {
      "text/plain": [
       "[{'cast_id': 6,\n",
       "  'character': 'Woody (voice)',\n",
       "  'credit_id': '52fe433f9251416c7500915d',\n",
       "  'gender': 2,\n",
       "  'id': 31,\n",
       "  'name': 'Tom Hanks',\n",
       "  'order': 0},\n",
       " {'cast_id': 9,\n",
       "  'character': 'Buzz Lightyear (voice)',\n",
       "  'credit_id': '52fe433f9251416c75009169',\n",
       "  'gender': 2,\n",
       "  'id': 12898,\n",
       "  'name': 'Tim Allen',\n",
       "  'order': 1},\n",
       " {'cast_id': 17,\n",
       "  'character': 'Lotso (voice)',\n",
       "  'credit_id': '52fe433f9251416c75009185',\n",
       "  'gender': 2,\n",
       "  'id': 13726,\n",
       "  'name': 'Ned Beatty',\n",
       "  'order': 2},\n",
       " {'cast_id': 8,\n",
       "  'character': 'Jessie the Yodeling Cowgirl (voice)',\n",
       "  'credit_id': '52fe433f9251416c75009165',\n",
       "  'gender': 1,\n",
       "  'id': 3234,\n",
       "  'name': 'Joan Cusack',\n",
       "  'order': 3},\n",
       " {'cast_id': 7,\n",
       "  'character': 'Ken (voice)',\n",
       "  'credit_id': '52fe433f9251416c75009161',\n",
       "  'gender': 2,\n",
       "  'id': 2232,\n",
       "  'name': 'Michael Keaton',\n",
       "  'order': 4}]"
      ]
     },
     "execution_count": 21,
     "metadata": {},
     "output_type": "execute_result"
    }
   ],
   "source": [
    "df['cast'][42][:5]"
   ]
  },
  {
   "cell_type": "code",
   "execution_count": 22,
   "id": "59dd1360-19cf-402f-a195-25a466c66e08",
   "metadata": {},
   "outputs": [
    {
     "data": {
      "text/plain": [
       "[{'id': 1562, 'name': 'hostage'},\n",
       " {'id': 3616, 'name': 'college'},\n",
       " {'id': 4290, 'name': 'toy'},\n",
       " {'id': 5462, 'name': 'barbie'},\n",
       " {'id': 10336, 'name': 'animation'}]"
      ]
     },
     "execution_count": 22,
     "metadata": {},
     "output_type": "execute_result"
    }
   ],
   "source": [
    "df['keywords'][42][:5]"
   ]
  },
  {
   "cell_type": "code",
   "execution_count": 23,
   "id": "4a439060-1de2-493f-97fe-d166086ee490",
   "metadata": {},
   "outputs": [
    {
     "data": {
      "text/plain": [
       "[{'id': 16, 'name': 'Animation'},\n",
       " {'id': 10751, 'name': 'Family'},\n",
       " {'id': 35, 'name': 'Comedy'}]"
      ]
     },
     "execution_count": 23,
     "metadata": {},
     "output_type": "execute_result"
    }
   ],
   "source": [
    "df['genres'][42][:5]"
   ]
  },
  {
   "cell_type": "code",
   "execution_count": 24,
   "id": "ff7423d4-7e0d-4f85-a9c5-624b17c7d19a",
   "metadata": {},
   "outputs": [],
   "source": [
    "# 取得導演，否則 NaN\n",
    "def get_director(x):\n",
    "    for i in x:\n",
    "        if i['job'] == 'Director':\n",
    "            return i['name']\n",
    "    return np.nan"
   ]
  },
  {
   "cell_type": "code",
   "execution_count": 25,
   "id": "91bbb9bf-cd48-467b-ba34-1e4053a3ffce",
   "metadata": {},
   "outputs": [],
   "source": [
    "# 取得前 5 或全部名字\n",
    "def get_list(x):\n",
    "    # 檢查 list 型別\n",
    "    if isinstance(x, list):\n",
    "        names = [i['name'] for i in x]        \n",
    "        if len(names) > 5:\n",
    "            names = names[:5]\n",
    "        return names\n",
    "    # else:\n",
    "    return []"
   ]
  },
  {
   "cell_type": "code",
   "execution_count": 26,
   "id": "aa7ead7b-d9dc-4436-bb31-2181e06c01f7",
   "metadata": {},
   "outputs": [],
   "source": [
    "# 自定義導演、演員、關鍵字、類型\n",
    "df['director'] = df['crew'].apply(get_director)\n",
    "\n",
    "features = ['cast', 'keywords', 'genres']\n",
    "\n",
    "for feature in features:\n",
    "    df[feature] = df[feature].apply(get_list)"
   ]
  },
  {
   "cell_type": "code",
   "execution_count": 27,
   "id": "b82410f2-2501-4029-9c7e-fe8535dcb6a3",
   "metadata": {},
   "outputs": [
    {
     "data": {
      "text/html": [
       "<div>\n",
       "<style scoped>\n",
       "    .dataframe tbody tr th:only-of-type {\n",
       "        vertical-align: middle;\n",
       "    }\n",
       "\n",
       "    .dataframe tbody tr th {\n",
       "        vertical-align: top;\n",
       "    }\n",
       "\n",
       "    .dataframe thead th {\n",
       "        text-align: right;\n",
       "    }\n",
       "</style>\n",
       "<table border=\"1\" class=\"dataframe\">\n",
       "  <thead>\n",
       "    <tr style=\"text-align: right;\">\n",
       "      <th></th>\n",
       "      <th>title</th>\n",
       "      <th>cast</th>\n",
       "      <th>director</th>\n",
       "      <th>keywords</th>\n",
       "      <th>genres</th>\n",
       "    </tr>\n",
       "  </thead>\n",
       "  <tbody>\n",
       "    <tr>\n",
       "      <th>0</th>\n",
       "      <td>Avatar</td>\n",
       "      <td>[Sam Worthington, Zoe Saldana, Sigourney Weave...</td>\n",
       "      <td>James Cameron</td>\n",
       "      <td>[culture clash, future, space war, space colon...</td>\n",
       "      <td>[Action, Adventure, Fantasy, Science Fiction]</td>\n",
       "    </tr>\n",
       "    <tr>\n",
       "      <th>1</th>\n",
       "      <td>Pirates of the Caribbean: At World's End</td>\n",
       "      <td>[Johnny Depp, Orlando Bloom, Keira Knightley, ...</td>\n",
       "      <td>Gore Verbinski</td>\n",
       "      <td>[ocean, drug abuse, exotic island, east india ...</td>\n",
       "      <td>[Adventure, Fantasy, Action]</td>\n",
       "    </tr>\n",
       "    <tr>\n",
       "      <th>2</th>\n",
       "      <td>Spectre</td>\n",
       "      <td>[Daniel Craig, Christoph Waltz, Léa Seydoux, R...</td>\n",
       "      <td>Sam Mendes</td>\n",
       "      <td>[spy, based on novel, secret agent, sequel, mi6]</td>\n",
       "      <td>[Action, Adventure, Crime]</td>\n",
       "    </tr>\n",
       "    <tr>\n",
       "      <th>3</th>\n",
       "      <td>The Dark Knight Rises</td>\n",
       "      <td>[Christian Bale, Michael Caine, Gary Oldman, A...</td>\n",
       "      <td>Christopher Nolan</td>\n",
       "      <td>[dc comics, crime fighter, terrorist, secret i...</td>\n",
       "      <td>[Action, Crime, Drama, Thriller]</td>\n",
       "    </tr>\n",
       "    <tr>\n",
       "      <th>4</th>\n",
       "      <td>John Carter</td>\n",
       "      <td>[Taylor Kitsch, Lynn Collins, Samantha Morton,...</td>\n",
       "      <td>Andrew Stanton</td>\n",
       "      <td>[based on novel, mars, medallion, space travel...</td>\n",
       "      <td>[Action, Adventure, Science Fiction]</td>\n",
       "    </tr>\n",
       "  </tbody>\n",
       "</table>\n",
       "</div>"
      ],
      "text/plain": [
       "                                      title  \\\n",
       "0                                    Avatar   \n",
       "1  Pirates of the Caribbean: At World's End   \n",
       "2                                   Spectre   \n",
       "3                     The Dark Knight Rises   \n",
       "4                               John Carter   \n",
       "\n",
       "                                                cast           director  \\\n",
       "0  [Sam Worthington, Zoe Saldana, Sigourney Weave...      James Cameron   \n",
       "1  [Johnny Depp, Orlando Bloom, Keira Knightley, ...     Gore Verbinski   \n",
       "2  [Daniel Craig, Christoph Waltz, Léa Seydoux, R...         Sam Mendes   \n",
       "3  [Christian Bale, Michael Caine, Gary Oldman, A...  Christopher Nolan   \n",
       "4  [Taylor Kitsch, Lynn Collins, Samantha Morton,...     Andrew Stanton   \n",
       "\n",
       "                                            keywords  \\\n",
       "0  [culture clash, future, space war, space colon...   \n",
       "1  [ocean, drug abuse, exotic island, east india ...   \n",
       "2   [spy, based on novel, secret agent, sequel, mi6]   \n",
       "3  [dc comics, crime fighter, terrorist, secret i...   \n",
       "4  [based on novel, mars, medallion, space travel...   \n",
       "\n",
       "                                          genres  \n",
       "0  [Action, Adventure, Fantasy, Science Fiction]  \n",
       "1                   [Adventure, Fantasy, Action]  \n",
       "2                     [Action, Adventure, Crime]  \n",
       "3               [Action, Crime, Drama, Thriller]  \n",
       "4           [Action, Adventure, Science Fiction]  "
      ]
     },
     "execution_count": 27,
     "metadata": {},
     "output_type": "execute_result"
    }
   ],
   "source": [
    "df[['title', 'cast', 'director', 'keywords', 'genres']].head(5)"
   ]
  },
  {
   "cell_type": "code",
   "execution_count": 28,
   "id": "2a0fafe7-ae12-4b74-8e55-9642ff7c4daa",
   "metadata": {},
   "outputs": [],
   "source": [
    "# 姓名小寫 & 去空格，避免姓氏誤認等問題\n",
    "def clean_data(x):\n",
    "    if isinstance(x, list):\n",
    "        return [str.lower(i.replace(\" \", \"\")) for i in x]\n",
    "    else:\n",
    "        if isinstance(x, str):\n",
    "            return str.lower(x.replace(\" \", \"\"))\n",
    "        return ''"
   ]
  },
  {
   "cell_type": "code",
   "execution_count": 29,
   "id": "785d4096-8417-41a8-bbeb-46da6ae3d9e3",
   "metadata": {},
   "outputs": [],
   "source": [
    "features = ['cast', 'keywords', 'director', 'genres']\n",
    "\n",
    "for feature in features:\n",
    "    df[feature] = df[feature].apply(clean_data)"
   ]
  },
  {
   "cell_type": "code",
   "execution_count": 30,
   "id": "6e65208f-47bb-486d-bb95-e6b7268bfb3c",
   "metadata": {},
   "outputs": [],
   "source": [
    "def create_soup(x):\n",
    "    # return f\" {x['keywords']} {x['cast']} {x['genres']}\" ## Failure\n",
    "    return ' '.join(x['keywords']) + ' ' + ' '.join(x['cast']) + ' ' + x['director'] + ' ' + ' '.join(x['genres'])\n",
    "\n",
    "df['soup'] = df.apply(create_soup, axis=1)"
   ]
  },
  {
   "cell_type": "code",
   "execution_count": 31,
   "id": "5ae9622e-c6f3-437d-951c-8f4d9198bbf5",
   "metadata": {},
   "outputs": [
    {
     "data": {
      "text/plain": [
       "'dccomics crimefighter terrorist secretidentity burglar christianbale michaelcaine garyoldman annehathaway tomhardy christophernolan action crime drama thriller'"
      ]
     },
     "execution_count": 31,
     "metadata": {},
     "output_type": "execute_result"
    }
   ],
   "source": [
    "df['soup'][3]"
   ]
  },
  {
   "cell_type": "code",
   "execution_count": 32,
   "id": "4947bd70-52ab-43bd-ae6d-6ddb5bfe781d",
   "metadata": {},
   "outputs": [],
   "source": [
    "# 只計算出現次數不考慮頻率（少演員會不同權重）\n",
    "from sklearn.feature_extraction.text import CountVectorizer\n",
    "\n",
    "count = CountVectorizer(stop_words='english')\n",
    "count_matrix = count.fit_transform(df['soup'])"
   ]
  },
  {
   "cell_type": "code",
   "execution_count": 33,
   "id": "cbbf9921-bb2a-4de3-9f27-d64cc881a41a",
   "metadata": {},
   "outputs": [],
   "source": [
    "# 一樣用餘弦相似度來計算\n",
    "from sklearn.metrics.pairwise import cosine_similarity\n",
    "\n",
    "cosine_sim2 = cosine_similarity(count_matrix, count_matrix)"
   ]
  },
  {
   "cell_type": "code",
   "execution_count": 34,
   "id": "c1732140-a918-424f-8d34-7542c419d561",
   "metadata": {},
   "outputs": [
    {
     "data": {
      "text/plain": [
       "343                      Toy Story 2\n",
       "1541                       Toy Story\n",
       "77                        Inside Out\n",
       "258                     The Smurfs 2\n",
       "66                                Up\n",
       "1587    The Curse of the Were-Rabbit\n",
       "254                       The Smurfs\n",
       "2114            Return to Never Land\n",
       "692                   Chicken Little\n",
       "1426                         Valiant\n",
       "Name: title, dtype: object"
      ]
     },
     "execution_count": 34,
     "metadata": {},
     "output_type": "execute_result"
    }
   ],
   "source": [
    "# 用新的餘弦相似度(by 導演/演員etc)取得推薦\n",
    "get_recommendations('Toy Story 3', cosine_sim2)"
   ]
  },
  {
   "cell_type": "code",
   "execution_count": 35,
   "id": "ce5ec80b-566d-45f0-a057-dddda733e71e",
   "metadata": {},
   "outputs": [
    {
     "data": {
      "text/plain": [
       "1541                        Toy Story\n",
       "42                        Toy Story 3\n",
       "40                             Cars 2\n",
       "77                         Inside Out\n",
       "692                    Chicken Little\n",
       "1656    Hoodwinked Too! Hood VS. Evil\n",
       "258                      The Smurfs 2\n",
       "566                              Cars\n",
       "896                          Barnyard\n",
       "934                    Curious George\n",
       "Name: title, dtype: object"
      ]
     },
     "execution_count": 35,
     "metadata": {},
     "output_type": "execute_result"
    }
   ],
   "source": [
    "get_recommendations('Toy Story 2', cosine_sim2)"
   ]
  },
  {
   "cell_type": "markdown",
   "id": "9b374c83-e337-4ef0-8bf3-9c1e94f8ee90",
   "metadata": {},
   "source": [
    "> 終於好好推薦相關皮克斯動畫了，備感欣慰\n",
    "# 接下來換 Collaborative Filtering by User (協同過濾)\n",
    "## 3-1 用戶評分預測"
   ]
  },
  {
   "cell_type": "code",
   "execution_count": 36,
   "id": "b1cc3e07-98bb-47ad-81e1-40972b8f56e7",
   "metadata": {},
   "outputs": [],
   "source": [
    "from surprise import SVD, Reader, accuracy\n",
    "from surprise import Dataset\n",
    "from surprise.model_selection import cross_validate, train_test_split"
   ]
  },
  {
   "cell_type": "code",
   "execution_count": 37,
   "id": "7c77af22-9ce8-45f9-a276-aa4b2e2b9765",
   "metadata": {},
   "outputs": [
    {
     "data": {
      "text/html": [
       "<div>\n",
       "<style scoped>\n",
       "    .dataframe tbody tr th:only-of-type {\n",
       "        vertical-align: middle;\n",
       "    }\n",
       "\n",
       "    .dataframe tbody tr th {\n",
       "        vertical-align: top;\n",
       "    }\n",
       "\n",
       "    .dataframe thead th {\n",
       "        text-align: right;\n",
       "    }\n",
       "</style>\n",
       "<table border=\"1\" class=\"dataframe\">\n",
       "  <thead>\n",
       "    <tr style=\"text-align: right;\">\n",
       "      <th></th>\n",
       "      <th>userId</th>\n",
       "      <th>movieId</th>\n",
       "      <th>rating</th>\n",
       "      <th>timestamp</th>\n",
       "    </tr>\n",
       "  </thead>\n",
       "  <tbody>\n",
       "    <tr>\n",
       "      <th>0</th>\n",
       "      <td>1</td>\n",
       "      <td>31</td>\n",
       "      <td>2.5</td>\n",
       "      <td>1260759144</td>\n",
       "    </tr>\n",
       "    <tr>\n",
       "      <th>1</th>\n",
       "      <td>1</td>\n",
       "      <td>1029</td>\n",
       "      <td>3.0</td>\n",
       "      <td>1260759179</td>\n",
       "    </tr>\n",
       "    <tr>\n",
       "      <th>2</th>\n",
       "      <td>1</td>\n",
       "      <td>1061</td>\n",
       "      <td>3.0</td>\n",
       "      <td>1260759182</td>\n",
       "    </tr>\n",
       "    <tr>\n",
       "      <th>3</th>\n",
       "      <td>1</td>\n",
       "      <td>1129</td>\n",
       "      <td>2.0</td>\n",
       "      <td>1260759185</td>\n",
       "    </tr>\n",
       "    <tr>\n",
       "      <th>4</th>\n",
       "      <td>1</td>\n",
       "      <td>1172</td>\n",
       "      <td>4.0</td>\n",
       "      <td>1260759205</td>\n",
       "    </tr>\n",
       "  </tbody>\n",
       "</table>\n",
       "</div>"
      ],
      "text/plain": [
       "   userId  movieId  rating   timestamp\n",
       "0       1       31     2.5  1260759144\n",
       "1       1     1029     3.0  1260759179\n",
       "2       1     1061     3.0  1260759182\n",
       "3       1     1129     2.0  1260759185\n",
       "4       1     1172     4.0  1260759205"
      ]
     },
     "execution_count": 37,
     "metadata": {},
     "output_type": "execute_result"
    }
   ],
   "source": [
    "ratings = pd.read_csv('ratings_small.csv')\n",
    "ratings.head()"
   ]
  },
  {
   "cell_type": "code",
   "execution_count": 38,
   "id": "3b94dcdb-ea0f-429b-8247-45cc924089ac",
   "metadata": {},
   "outputs": [
    {
     "data": {
      "text/html": [
       "<div>\n",
       "<style scoped>\n",
       "    .dataframe tbody tr th:only-of-type {\n",
       "        vertical-align: middle;\n",
       "    }\n",
       "\n",
       "    .dataframe tbody tr th {\n",
       "        vertical-align: top;\n",
       "    }\n",
       "\n",
       "    .dataframe thead th {\n",
       "        text-align: right;\n",
       "    }\n",
       "</style>\n",
       "<table border=\"1\" class=\"dataframe\">\n",
       "  <thead>\n",
       "    <tr style=\"text-align: right;\">\n",
       "      <th></th>\n",
       "      <th>userId</th>\n",
       "      <th>movieId</th>\n",
       "      <th>rating</th>\n",
       "      <th>timestamp</th>\n",
       "    </tr>\n",
       "  </thead>\n",
       "  <tbody>\n",
       "  </tbody>\n",
       "</table>\n",
       "</div>"
      ],
      "text/plain": [
       "Empty DataFrame\n",
       "Columns: [userId, movieId, rating, timestamp]\n",
       "Index: []"
      ]
     },
     "execution_count": 38,
     "metadata": {},
     "output_type": "execute_result"
    }
   ],
   "source": [
    "# 檢查 rating 都正常有值\n",
    "ratings[ratings['rating'] < 0.5 ]"
   ]
  },
  {
   "cell_type": "code",
   "execution_count": 39,
   "id": "0a9af877-06cf-40f7-b952-512ca5b5147f",
   "metadata": {},
   "outputs": [
    {
     "data": {
      "text/plain": [
       "userId       0\n",
       "movieId      0\n",
       "rating       0\n",
       "timestamp    0\n",
       "dtype: int64"
      ]
     },
     "execution_count": 39,
     "metadata": {},
     "output_type": "execute_result"
    }
   ],
   "source": [
    "pd.isna(ratings).sum()"
   ]
  },
  {
   "cell_type": "code",
   "execution_count": 40,
   "id": "b6a92e9d-fd6b-438b-ada2-c0ebf6e6dc01",
   "metadata": {},
   "outputs": [
    {
     "name": "stdout",
     "output_type": "stream",
     "text": [
      "RMSE: 0.8934\n"
     ]
    },
    {
     "data": {
      "text/plain": [
       "0.8933914291849057"
      ]
     },
     "execution_count": 40,
     "metadata": {},
     "output_type": "execute_result"
    }
   ],
   "source": [
    "reader = Reader()\n",
    "# Loading local dataset (surprise 只接受這三個特徵)\n",
    "data = Dataset.load_from_df(ratings[['userId', 'movieId', 'rating']], reader)\n",
    "\n",
    "# sample random trainset and testset\n",
    "# test set is made of 25% of the ratings.\n",
    "trainset, testset = train_test_split(data, test_size=0.25)\n",
    "\n",
    "# 選擇 SVD 擔任模型\n",
    "algo = SVD()\n",
    "\n",
    "# Train the algorithm on the trainset, and predict ratings for the testset\n",
    "algo.fit(trainset)\n",
    "predictions = algo.test(testset)\n",
    "\n",
    "# Then compute RMSE\n",
    "accuracy.rmse(predictions)"
   ]
  },
  {
   "cell_type": "code",
   "execution_count": 41,
   "id": "3af321a2-fc10-4be2-a9e6-448fc397624a",
   "metadata": {},
   "outputs": [
    {
     "data": {
      "text/plain": [
       "{'test_rmse': array([0.8960319 , 0.89594562, 0.89513946, 0.89566369, 0.89701586]),\n",
       " 'test_mae': array([0.68859359, 0.69048   , 0.69071655, 0.69175026, 0.68815595]),\n",
       " 'fit_time': (0.7944130897521973,\n",
       "  0.8658769130706787,\n",
       "  0.7983138561248779,\n",
       "  0.8097629547119141,\n",
       "  0.8031909465789795),\n",
       " 'test_time': (0.16651296615600586,\n",
       "  0.31683993339538574,\n",
       "  0.17194294929504395,\n",
       "  0.16993093490600586,\n",
       "  0.16755294799804688)}"
      ]
     },
     "execution_count": 41,
     "metadata": {},
     "output_type": "execute_result"
    }
   ],
   "source": [
    "# 交叉驗證分 kfold=5，印出 均方根誤差 及 平均絕對誤差\n",
    "cross_validate(algo, data, measures=['rmse', 'mae'], cv=5)"
   ]
  },
  {
   "cell_type": "code",
   "execution_count": 42,
   "id": "125ab644-0721-40df-9c2c-85aaf3165692",
   "metadata": {},
   "outputs": [
    {
     "data": {
      "text/plain": [
       "<surprise.prediction_algorithms.matrix_factorization.SVD at 0x7f7bea2b5730>"
      ]
     },
     "execution_count": 42,
     "metadata": {},
     "output_type": "execute_result"
    }
   ],
   "source": [
    "trainset = data.build_full_trainset()\n",
    "algo.fit(trainset)"
   ]
  },
  {
   "cell_type": "code",
   "execution_count": 43,
   "id": "e43fa296-ba0c-4fb7-8e95-ff5881916f4e",
   "metadata": {},
   "outputs": [
    {
     "data": {
      "text/html": [
       "<div>\n",
       "<style scoped>\n",
       "    .dataframe tbody tr th:only-of-type {\n",
       "        vertical-align: middle;\n",
       "    }\n",
       "\n",
       "    .dataframe tbody tr th {\n",
       "        vertical-align: top;\n",
       "    }\n",
       "\n",
       "    .dataframe thead th {\n",
       "        text-align: right;\n",
       "    }\n",
       "</style>\n",
       "<table border=\"1\" class=\"dataframe\">\n",
       "  <thead>\n",
       "    <tr style=\"text-align: right;\">\n",
       "      <th></th>\n",
       "      <th>userId</th>\n",
       "      <th>movieId</th>\n",
       "      <th>rating</th>\n",
       "      <th>timestamp</th>\n",
       "    </tr>\n",
       "  </thead>\n",
       "  <tbody>\n",
       "    <tr>\n",
       "      <th>0</th>\n",
       "      <td>1</td>\n",
       "      <td>31</td>\n",
       "      <td>2.5</td>\n",
       "      <td>1260759144</td>\n",
       "    </tr>\n",
       "    <tr>\n",
       "      <th>1</th>\n",
       "      <td>1</td>\n",
       "      <td>1029</td>\n",
       "      <td>3.0</td>\n",
       "      <td>1260759179</td>\n",
       "    </tr>\n",
       "    <tr>\n",
       "      <th>2</th>\n",
       "      <td>1</td>\n",
       "      <td>1061</td>\n",
       "      <td>3.0</td>\n",
       "      <td>1260759182</td>\n",
       "    </tr>\n",
       "    <tr>\n",
       "      <th>3</th>\n",
       "      <td>1</td>\n",
       "      <td>1129</td>\n",
       "      <td>2.0</td>\n",
       "      <td>1260759185</td>\n",
       "    </tr>\n",
       "    <tr>\n",
       "      <th>4</th>\n",
       "      <td>1</td>\n",
       "      <td>1172</td>\n",
       "      <td>4.0</td>\n",
       "      <td>1260759205</td>\n",
       "    </tr>\n",
       "    <tr>\n",
       "      <th>5</th>\n",
       "      <td>1</td>\n",
       "      <td>1263</td>\n",
       "      <td>2.0</td>\n",
       "      <td>1260759151</td>\n",
       "    </tr>\n",
       "    <tr>\n",
       "      <th>6</th>\n",
       "      <td>1</td>\n",
       "      <td>1287</td>\n",
       "      <td>2.0</td>\n",
       "      <td>1260759187</td>\n",
       "    </tr>\n",
       "    <tr>\n",
       "      <th>7</th>\n",
       "      <td>1</td>\n",
       "      <td>1293</td>\n",
       "      <td>2.0</td>\n",
       "      <td>1260759148</td>\n",
       "    </tr>\n",
       "    <tr>\n",
       "      <th>8</th>\n",
       "      <td>1</td>\n",
       "      <td>1339</td>\n",
       "      <td>3.5</td>\n",
       "      <td>1260759125</td>\n",
       "    </tr>\n",
       "    <tr>\n",
       "      <th>9</th>\n",
       "      <td>1</td>\n",
       "      <td>1343</td>\n",
       "      <td>2.0</td>\n",
       "      <td>1260759131</td>\n",
       "    </tr>\n",
       "    <tr>\n",
       "      <th>10</th>\n",
       "      <td>1</td>\n",
       "      <td>1371</td>\n",
       "      <td>2.5</td>\n",
       "      <td>1260759135</td>\n",
       "    </tr>\n",
       "    <tr>\n",
       "      <th>11</th>\n",
       "      <td>1</td>\n",
       "      <td>1405</td>\n",
       "      <td>1.0</td>\n",
       "      <td>1260759203</td>\n",
       "    </tr>\n",
       "    <tr>\n",
       "      <th>12</th>\n",
       "      <td>1</td>\n",
       "      <td>1953</td>\n",
       "      <td>4.0</td>\n",
       "      <td>1260759191</td>\n",
       "    </tr>\n",
       "    <tr>\n",
       "      <th>13</th>\n",
       "      <td>1</td>\n",
       "      <td>2105</td>\n",
       "      <td>4.0</td>\n",
       "      <td>1260759139</td>\n",
       "    </tr>\n",
       "    <tr>\n",
       "      <th>14</th>\n",
       "      <td>1</td>\n",
       "      <td>2150</td>\n",
       "      <td>3.0</td>\n",
       "      <td>1260759194</td>\n",
       "    </tr>\n",
       "    <tr>\n",
       "      <th>15</th>\n",
       "      <td>1</td>\n",
       "      <td>2193</td>\n",
       "      <td>2.0</td>\n",
       "      <td>1260759198</td>\n",
       "    </tr>\n",
       "    <tr>\n",
       "      <th>16</th>\n",
       "      <td>1</td>\n",
       "      <td>2294</td>\n",
       "      <td>2.0</td>\n",
       "      <td>1260759108</td>\n",
       "    </tr>\n",
       "    <tr>\n",
       "      <th>17</th>\n",
       "      <td>1</td>\n",
       "      <td>2455</td>\n",
       "      <td>2.5</td>\n",
       "      <td>1260759113</td>\n",
       "    </tr>\n",
       "    <tr>\n",
       "      <th>18</th>\n",
       "      <td>1</td>\n",
       "      <td>2968</td>\n",
       "      <td>1.0</td>\n",
       "      <td>1260759200</td>\n",
       "    </tr>\n",
       "    <tr>\n",
       "      <th>19</th>\n",
       "      <td>1</td>\n",
       "      <td>3671</td>\n",
       "      <td>3.0</td>\n",
       "      <td>1260759117</td>\n",
       "    </tr>\n",
       "  </tbody>\n",
       "</table>\n",
       "</div>"
      ],
      "text/plain": [
       "    userId  movieId  rating   timestamp\n",
       "0        1       31     2.5  1260759144\n",
       "1        1     1029     3.0  1260759179\n",
       "2        1     1061     3.0  1260759182\n",
       "3        1     1129     2.0  1260759185\n",
       "4        1     1172     4.0  1260759205\n",
       "5        1     1263     2.0  1260759151\n",
       "6        1     1287     2.0  1260759187\n",
       "7        1     1293     2.0  1260759148\n",
       "8        1     1339     3.5  1260759125\n",
       "9        1     1343     2.0  1260759131\n",
       "10       1     1371     2.5  1260759135\n",
       "11       1     1405     1.0  1260759203\n",
       "12       1     1953     4.0  1260759191\n",
       "13       1     2105     4.0  1260759139\n",
       "14       1     2150     3.0  1260759194\n",
       "15       1     2193     2.0  1260759198\n",
       "16       1     2294     2.0  1260759108\n",
       "17       1     2455     2.5  1260759113\n",
       "18       1     2968     1.0  1260759200\n",
       "19       1     3671     3.0  1260759117"
      ]
     },
     "execution_count": 43,
     "metadata": {},
     "output_type": "execute_result"
    }
   ],
   "source": [
    "ratings[ratings['userId'] == 1]"
   ]
  },
  {
   "cell_type": "code",
   "execution_count": 44,
   "id": "ed73f7b5-c327-4bf1-9187-dff397d0e594",
   "metadata": {},
   "outputs": [
    {
     "name": "stdout",
     "output_type": "stream",
     "text": [
      "user: 1          item: 42         r_ui = 3.00   est = 3.54   {'was_impossible': False}\n"
     ]
    },
    {
     "data": {
      "text/plain": [
       "Prediction(uid='1', iid='42', r_ui=3, est=3.543608255669773, details={'was_impossible': False})"
      ]
     },
     "execution_count": 44,
     "metadata": {},
     "output_type": "execute_result"
    }
   ],
   "source": [
    "uid = '1'  # raw user id (as in the ratings file), STR!\n",
    "iid = '42'  # raw item id (as in the ratings file)\n",
    "\n",
    "# 預測 1 號用戶對 42 號電影的評分\n",
    "# get a prediction for specific users and items.\n",
    "algo.predict(uid, iid, r_ui=3, verbose=True)"
   ]
  },
  {
   "cell_type": "markdown",
   "id": "74a911c7-5932-4984-8aea-8b1696b99f32",
   "metadata": {},
   "source": [
    "## 3-2 嘗試調整超參數"
   ]
  },
  {
   "cell_type": "code",
   "execution_count": 45,
   "id": "a567fcf6-ae42-416f-8de2-c6f3869660fb",
   "metadata": {},
   "outputs": [],
   "source": [
    "epochs = 10     # epochs 數量\n",
    "factors = 50    # 矩陣分解因子數\n",
    "lr_all = 0.005  # The learning rate for all parameters"
   ]
  },
  {
   "cell_type": "code",
   "execution_count": 46,
   "id": "f537af18-b838-4bb4-9b92-56ab618a7f04",
   "metadata": {},
   "outputs": [
    {
     "name": "stdout",
     "output_type": "stream",
     "text": [
      "Evaluating RMSE, MAE of algorithm SVD on 3 split(s).\n",
      "\n",
      "                  Fold 1  Fold 2  Fold 3  Mean    Std     \n",
      "RMSE (testset)    0.8982  0.9097  0.9064  0.9048  0.0048  \n",
      "MAE (testset)     0.6955  0.7015  0.7012  0.6994  0.0028  \n",
      "Fit time          0.27    0.34    0.30    0.30    0.03    \n",
      "Test time         0.27    0.29    0.43    0.33    0.07    \n"
     ]
    },
    {
     "data": {
      "text/plain": [
       "{'test_rmse': array([0.89821581, 0.90974161, 0.90637032]),\n",
       " 'test_mae': array([0.69550512, 0.70152192, 0.70122243]),\n",
       " 'fit_time': (0.27167391777038574, 0.34007716178894043, 0.2957780361175537),\n",
       " 'test_time': (0.2735731601715088, 0.2899799346923828, 0.4273838996887207)}"
      ]
     },
     "execution_count": 46,
     "metadata": {},
     "output_type": "execute_result"
    }
   ],
   "source": [
    "reader = Reader(rating_scale=(0.5, 5))    # 告訴 suprise ，評分的範圍\n",
    "data = Dataset.load_from_df(ratings[['userId', 'movieId', 'rating']], reader) #只要 3 欄 user, item, rating ，還有reader 要當參數\n",
    "svd = SVD(verbose=False, n_epochs=epochs, n_factors = factors, lr_all=lr_all)  # 選擇用 SVD 法來分解矩陣\n",
    "cross_validate(svd, data, measures=['RMSE', 'MAE'], cv=3, verbose=True) # 做 3 遍看訓練成果"
   ]
  },
  {
   "cell_type": "code",
   "execution_count": 47,
   "id": "ef1bf616-3cf9-4766-8cb8-efbb5cc631b9",
   "metadata": {},
   "outputs": [
    {
     "name": "stdout",
     "output_type": "stream",
     "text": [
      "user: 1          item: 42         r_ui = None   est = 2.69   {'was_impossible': False}\n"
     ]
    },
    {
     "data": {
      "text/plain": [
       "Prediction(uid=1, iid=42, r_ui=None, est=2.686453292937168, details={'was_impossible': False})"
      ]
     },
     "execution_count": 47,
     "metadata": {},
     "output_type": "execute_result"
    }
   ],
   "source": [
    "# 預測 1 號用戶對 42 號電影的評分\n",
    "svd.predict(1, 42, verbose=True)"
   ]
  },
  {
   "cell_type": "code",
   "execution_count": 48,
   "id": "71a686b9-75ae-4a05-8312-7e028c83a03e",
   "metadata": {},
   "outputs": [
    {
     "name": "stderr",
     "output_type": "stream",
     "text": [
      "[Parallel(n_jobs=2)]: Using backend LokyBackend with 2 concurrent workers.\n",
      "[Parallel(n_jobs=2)]: Done  46 tasks      | elapsed:   12.2s\n"
     ]
    },
    {
     "name": "stdout",
     "output_type": "stream",
     "text": [
      "0.8944363890017641\n",
      "{'n_epochs': 10, 'lr_all': 0.01, 'n_factors': 50}\n"
     ]
    },
    {
     "name": "stderr",
     "output_type": "stream",
     "text": [
      "[Parallel(n_jobs=2)]: Done 135 out of 135 | elapsed:   42.5s finished\n"
     ]
    }
   ],
   "source": [
    "# 調參，交給套件找參數\n",
    "from surprise.model_selection import GridSearchCV\n",
    "param_grid = {\"n_epochs\": [5, 10, 15], \"lr_all\": [0.001, 0.005, 0.01], \"n_factors\": [50, 100, 150]}\n",
    "gs = GridSearchCV(SVD, param_grid, measures=[\"rmse\", \"mae\"], cv=5, joblib_verbose=1, n_jobs=2)\n",
    "gs.fit(data)\n",
    "\n",
    "# 找出最好的 RMSE 分數\n",
    "print(gs.best_score[\"rmse\"])\n",
    "\n",
    "# 印出最好的參數組合\n",
    "print(gs.best_params[\"rmse\"])"
   ]
  },
  {
   "cell_type": "code",
   "execution_count": 49,
   "id": "4193c123-778a-4b20-8ad5-2e7c0adacb06",
   "metadata": {},
   "outputs": [
    {
     "name": "stderr",
     "output_type": "stream",
     "text": [
      "[Parallel(n_jobs=2)]: Using backend LokyBackend with 2 concurrent workers.\n",
      "[Parallel(n_jobs=2)]: Done  46 tasks      | elapsed:   10.4s\n"
     ]
    },
    {
     "name": "stdout",
     "output_type": "stream",
     "text": [
      "0.8897571380586621\n",
      "{'n_epochs': 12, 'lr_all': 0.01, 'n_factors': 10}\n"
     ]
    },
    {
     "name": "stderr",
     "output_type": "stream",
     "text": [
      "[Parallel(n_jobs=2)]: Done 135 out of 135 | elapsed:   32.7s finished\n"
     ]
    }
   ],
   "source": [
    "# 繼續找更好的參數\n",
    "param_grid = {\"n_epochs\": [8, 10, 12], \"lr_all\": [0.01, 0.015 , 0.05], \"n_factors\": [10, 50, 80]}\n",
    "gs = GridSearchCV(SVD, param_grid, measures=[\"rmse\", \"mae\"], cv=5, joblib_verbose=1, n_jobs=2)\n",
    "gs.fit(data)\n",
    "\n",
    "print(gs.best_score[\"rmse\"])\n",
    "print(gs.best_params[\"rmse\"])"
   ]
  },
  {
   "cell_type": "code",
   "execution_count": 50,
   "id": "56616d3d-1471-4d42-8fb9-223e9e103b1b",
   "metadata": {},
   "outputs": [
    {
     "name": "stdout",
     "output_type": "stream",
     "text": [
      "Evaluating RMSE, MAE of algorithm SVD on 3 split(s).\n",
      "\n",
      "                  Fold 1  Fold 2  Fold 3  Mean    Std     \n",
      "RMSE (testset)    0.8905  0.8988  0.8959  0.8950  0.0035  \n",
      "MAE (testset)     0.6858  0.6929  0.6903  0.6897  0.0029  \n",
      "Fit time          0.24    0.24    0.27    0.25    0.01    \n",
      "Test time         0.28    0.43    0.33    0.35    0.06    \n"
     ]
    },
    {
     "data": {
      "text/plain": [
       "{'test_rmse': array([0.89045771, 0.89880828, 0.89587558]),\n",
       " 'test_mae': array([0.6858109 , 0.69287357, 0.69034484]),\n",
       " 'fit_time': (0.24281024932861328, 0.23850488662719727, 0.27125024795532227),\n",
       " 'test_time': (0.27953481674194336, 0.4327120780944824, 0.3327751159667969)}"
      ]
     },
     "execution_count": 50,
     "metadata": {},
     "output_type": "execute_result"
    }
   ],
   "source": [
    "# 用新參數再算一次\n",
    "epochs = 12     # epochs 數量\n",
    "lr_all = 0.01  # The learning rate for all parameters\n",
    "factors = 10    # 在矩陣分解時，要拆出多少個因子\n",
    "reader = Reader(rating_scale=(0.5, 5))    # 告訴 suprise ，評分的範圍\n",
    "data = Dataset.load_from_df(ratings[['userId', 'movieId', 'rating']], reader) #只要 3 欄 user, item, rating ，還有reader 要當參數\n",
    "svd = SVD(verbose=False, n_epochs=epochs, n_factors = factors, lr_all=lr_all)  # 選擇用 SVD 法來分解矩陣\n",
    "cross_validate(svd, data, measures=['RMSE', 'MAE'], cv=3, verbose=True) # 做 3 遍看訓練成果"
   ]
  },
  {
   "cell_type": "code",
   "execution_count": null,
   "id": "45fc3ca3-9d5b-4354-afc9-f34bba5757eb",
   "metadata": {},
   "outputs": [],
   "source": [
    "# RMSE 及 MAE 均略為下降"
   ]
  },
  {
   "cell_type": "code",
   "execution_count": 51,
   "id": "8c4c1f57-bb57-465c-8a4a-cf4a22046e92",
   "metadata": {},
   "outputs": [
    {
     "name": "stdout",
     "output_type": "stream",
     "text": [
      "user: 1          item: 42         r_ui = None   est = 1.95   {'was_impossible': False}\n"
     ]
    },
    {
     "data": {
      "text/plain": [
       "Prediction(uid=1, iid=42, r_ui=None, est=1.952311973439136, details={'was_impossible': False})"
      ]
     },
     "execution_count": 51,
     "metadata": {},
     "output_type": "execute_result"
    }
   ],
   "source": [
    "# 預測 1 號用戶對 42 號電影的評分\n",
    "svd.predict(1, 42, verbose=True)"
   ]
  },
  {
   "cell_type": "code",
   "execution_count": null,
   "id": "dd3ecfef-4bd5-4237-835a-22195ad4a9bc",
   "metadata": {},
   "outputs": [],
   "source": []
  }
 ],
 "metadata": {
  "kernelspec": {
   "display_name": "Python 3 (ipykernel)",
   "language": "python",
   "name": "python3"
  },
  "language_info": {
   "codemirror_mode": {
    "name": "ipython",
    "version": 3
   },
   "file_extension": ".py",
   "mimetype": "text/x-python",
   "name": "python",
   "nbconvert_exporter": "python",
   "pygments_lexer": "ipython3",
   "version": "3.9.12"
  }
 },
 "nbformat": 4,
 "nbformat_minor": 5
}
